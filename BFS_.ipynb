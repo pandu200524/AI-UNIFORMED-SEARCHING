{
  "nbformat": 4,
  "nbformat_minor": 0,
  "metadata": {
    "colab": {
      "provenance": []
    },
    "kernelspec": {
      "name": "python3",
      "display_name": "Python 3"
    },
    "language_info": {
      "name": "python"
    }
  },
  "cells": [
    {
      "cell_type": "code",
      "execution_count": 1,
      "metadata": {
        "colab": {
          "base_uri": "https://localhost:8080/"
        },
        "id": "tCXRSOjHRoUu",
        "outputId": "713a2a6e-010b-461b-f6e1-1199992303dc"
      },
      "outputs": [
        {
          "output_type": "stream",
          "name": "stdout",
          "text": [
            "BFS Traversal Path:\n",
            "a → b → c → d → e → f → z\n"
          ]
        }
      ],
      "source": [
        "from collections import deque\n",
        "\n",
        "graph = {\n",
        "    'a': [('b', 9), ('c', 4), ('d', 7)],\n",
        "    'b': [('e', 11)],\n",
        "    'c': [('e', 17), ('f', 12)],\n",
        "    'd': [('f', 14)],\n",
        "    'e': [('z', 5)],\n",
        "    'f': [('z', 9)],\n",
        "    'z': []\n",
        "}\n",
        "\n",
        "def bfs(graph, start):\n",
        "    queue = deque([start])\n",
        "    visited = set()\n",
        "    path = []\n",
        "\n",
        "    while queue:\n",
        "        node = queue.popleft()\n",
        "        if node not in visited:\n",
        "            visited.add(node)\n",
        "            path.append(node)\n",
        "            for neighbor, _ in graph.get(node, []):\n",
        "                if neighbor not in visited:\n",
        "                    queue.append(neighbor)\n",
        "\n",
        "    return \" → \".join(path)\n",
        "\n",
        "print(\"BFS Traversal Path:\")\n",
        "print(bfs(graph, 'a'))\n"
      ]
    }
  ]
}