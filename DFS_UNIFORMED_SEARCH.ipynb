{
  "nbformat": 4,
  "nbformat_minor": 0,
  "metadata": {
    "colab": {
      "provenance": []
    },
    "kernelspec": {
      "name": "python3",
      "display_name": "Python 3"
    },
    "language_info": {
      "name": "python"
    }
  },
  "cells": [
    {
      "cell_type": "code",
      "execution_count": 1,
      "metadata": {
        "colab": {
          "base_uri": "https://localhost:8080/"
        },
        "id": "Odi0gzdaC8py",
        "outputId": "ee0efe9d-0194-44c0-9e9b-6b3a637fae21"
      },
      "outputs": [
        {
          "output_type": "stream",
          "name": "stdout",
          "text": [
            "Goal Reached. Path: a → b → e → z\n"
          ]
        }
      ],
      "source": [
        "graph = {\n",
        "    'a': [('b', 9), ('c', 4), ('d', 7)],\n",
        "    'b': [('e', 11)],\n",
        "    'c': [('e', 17), ('f', 12)],\n",
        "    'd': [('f', 14)],\n",
        "    'e': [('z', 5)],\n",
        "    'f': [('z', 9)],\n",
        "    'z': []\n",
        "}\n",
        "\n",
        "def dfs(graph, start, goal):\n",
        "    stack = [(start, [start])]\n",
        "    visited = set()\n",
        "\n",
        "    while stack:\n",
        "        current, path = stack.pop()\n",
        "\n",
        "        if current == goal:\n",
        "            print(\"Goal Reached. Path:\", \" → \".join(path))\n",
        "            return\n",
        "\n",
        "        if current not in visited:\n",
        "            visited.add(current)\n",
        "            for neighbor, _ in reversed(graph.get(current, [])):\n",
        "                if neighbor not in visited:\n",
        "                    stack.append((neighbor, path + [neighbor]))\n",
        "\n",
        "    print(\"Goal Not Reached\")\n",
        "\n",
        "source = 'a'\n",
        "target = 'z'\n",
        "dfs(graph, source, target)\n"
      ]
    }
  ]
}