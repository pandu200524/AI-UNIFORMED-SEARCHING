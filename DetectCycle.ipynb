{
  "nbformat": 4,
  "nbformat_minor": 0,
  "metadata": {
    "colab": {
      "provenance": []
    },
    "kernelspec": {
      "name": "python3",
      "display_name": "Python 3"
    },
    "language_info": {
      "name": "python"
    }
  },
  "cells": [
    {
      "cell_type": "code",
      "execution_count": 1,
      "metadata": {
        "id": "DalQJ2I0Teof",
        "colab": {
          "base_uri": "https://localhost:8080/"
        },
        "outputId": "31fff7fa-0704-431d-d9f0-e37f2d34275e"
      },
      "outputs": [
        {
          "output_type": "stream",
          "name": "stdout",
          "text": [
            "No Cycle Detected\n"
          ]
        }
      ],
      "source": [
        "def has_cycle(graph):\n",
        "    visited = set()\n",
        "    recursion_stack = set()\n",
        "\n",
        "    def dfs(node):\n",
        "        if node in recursion_stack:\n",
        "            return True\n",
        "        if node in visited:\n",
        "            return False\n",
        "\n",
        "        visited.add(node)\n",
        "        recursion_stack.add(node)\n",
        "\n",
        "        for neighbor, _ in graph.get(node, []):\n",
        "            if dfs(neighbor):\n",
        "                return True\n",
        "\n",
        "        recursion_stack.remove(node)\n",
        "        return False\n",
        "\n",
        "    for node in graph:\n",
        "        if node not in visited:\n",
        "            if dfs(node):\n",
        "                return True\n",
        "\n",
        "    return False\n",
        "\n",
        "\n",
        "graph = {\n",
        "    'a': [('b', 9), ('c', 4), ('d', 7)],\n",
        "    'b': [('e', 11)],\n",
        "    'c': [('e', 17), ('f', 12)],\n",
        "    'd': [('f', 14)],\n",
        "    'e': [('z', 5)],\n",
        "    'f': [('z', 9)],\n",
        "    'z': []\n",
        "}\n",
        "\n",
        "if has_cycle(graph):\n",
        "    print(\"Cycle Detected\")\n",
        "else:\n",
        "    print(\"No Cycle Detected\")\n"
      ]
    }
  ]
}