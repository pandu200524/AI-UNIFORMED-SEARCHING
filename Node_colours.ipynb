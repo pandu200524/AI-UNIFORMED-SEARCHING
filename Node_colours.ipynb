{
  "nbformat": 4,
  "nbformat_minor": 0,
  "metadata": {
    "colab": {
      "provenance": []
    },
    "kernelspec": {
      "name": "python3",
      "display_name": "Python 3"
    },
    "language_info": {
      "name": "python"
    }
  },
  "cells": [
    {
      "cell_type": "code",
      "execution_count": 1,
      "metadata": {
        "colab": {
          "base_uri": "https://localhost:8080/"
        },
        "id": "okMaKspiU8tH",
        "outputId": "e0ede3c8-f87d-4f3b-cebb-88fa37afd5f6"
      },
      "outputs": [
        {
          "output_type": "stream",
          "name": "stdout",
          "text": [
            "Node a -> Red\n",
            "Node b -> Green\n",
            "Node c -> Green\n",
            "Node d -> Green\n",
            "Node e -> Red\n",
            "Node f -> Red\n",
            "Node z -> Green\n"
          ]
        }
      ],
      "source": [
        "graph = {\n",
        "    'a': ['b', 'c', 'd'],\n",
        "    'b': ['a', 'e'],\n",
        "    'c': ['a', 'e', 'f'],\n",
        "    'd': ['a', 'f'],\n",
        "    'e': ['b', 'c', 'z'],\n",
        "    'f': ['c', 'd', 'z'],\n",
        "    'z': ['e', 'f']\n",
        "}\n",
        "\n",
        "colors = ['Red', 'Green', 'Blue']\n",
        "\n",
        "def is_safe(node, color, colored_nodes):\n",
        "    for neighbor in graph[node]:\n",
        "        if neighbor in colored_nodes and colored_nodes[neighbor] == color:\n",
        "            return False\n",
        "    return True\n",
        "\n",
        "def color_graph(nodes, colored_nodes, index):\n",
        "    if index == len(nodes):\n",
        "        for node in nodes:\n",
        "            print(f\"Node {node} -> {colored_nodes[node]}\")\n",
        "        return True\n",
        "\n",
        "    node = nodes[index]\n",
        "    for color in colors:\n",
        "        if is_safe(node, color, colored_nodes):\n",
        "            colored_nodes[node] = color\n",
        "            if color_graph(nodes, colored_nodes, index + 1):\n",
        "                return True\n",
        "            del colored_nodes[node]\n",
        "\n",
        "    return False\n",
        "\n",
        "nodes = list(graph.keys())\n",
        "colored_nodes = {}\n",
        "if not color_graph(nodes, colored_nodes, 0):\n",
        "    print(\"No valid coloring possible with 3 colors.\")\n"
      ]
    }
  ]
}