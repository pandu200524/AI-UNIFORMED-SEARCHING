{
  "nbformat": 4,
  "nbformat_minor": 0,
  "metadata": {
    "colab": {
      "provenance": []
    },
    "kernelspec": {
      "name": "python3",
      "display_name": "Python 3"
    },
    "language_info": {
      "name": "python"
    }
  },
  "cells": [
    {
      "cell_type": "code",
      "execution_count": 1,
      "metadata": {
        "colab": {
          "base_uri": "https://localhost:8080/"
        },
        "id": "rorIxgyRGxFG",
        "outputId": "cae5ce76-3e8d-4e4b-9cc8-94af39535ed7"
      },
      "outputs": [
        {
          "output_type": "stream",
          "name": "stdout",
          "text": [
            "Shortest Path: a → b → e → z | Cost: 25\n"
          ]
        }
      ],
      "source": [
        "import heapq\n",
        "\n",
        "graph = {\n",
        "    'a': [('b', 9), ('c', 4), ('d', 7)],\n",
        "    'b': [('e', 11)],\n",
        "    'c': [('e', 17), ('f', 12)],\n",
        "    'd': [('f', 14)],\n",
        "    'e': [('z', 5)],\n",
        "    'f': [('z', 9)],\n",
        "    'z': []\n",
        "}\n",
        "\n",
        "def dijkstra(graph, start, goal):\n",
        "    queue = [(0, start, [])]\n",
        "    visited = set()\n",
        "\n",
        "    while queue:\n",
        "        cost, current, path = heapq.heappop(queue)\n",
        "\n",
        "        if current in visited:\n",
        "            continue\n",
        "\n",
        "        visited.add(current)\n",
        "        path.append(current)\n",
        "\n",
        "        if current == goal:\n",
        "            print(\"Shortest Path:\", \" → \".join(path), \"| Cost:\", cost)\n",
        "            return\n",
        "\n",
        "        for neighbor, weight in graph.get(current, []):\n",
        "            if neighbor not in visited:\n",
        "                heapq.heappush(queue, (cost + weight, neighbor, path[:]))\n",
        "\n",
        "    print(\"No path found.\")\n",
        "\n",
        "dijkstra(graph, 'a', 'z')\n"
      ]
    }
  ]
}